{
  "nbformat": 4,
  "nbformat_minor": 0,
  "metadata": {
    "colab": {
      "name": "BasicRegressionTraining.ipynb",
      "version": "0.3.2",
      "provenance": []
    },
    "kernelspec": {
      "name": "python3",
      "display_name": "Python 3"
    }
  },
  "cells": [
    {
      "cell_type": "markdown",
      "metadata": {
        "id": "view-in-github",
        "colab_type": "text"
      },
      "source": [
        "[View in Colaboratory](https://colab.research.google.com/github/MuhammadTauseef/ML/blob/master/BasicRegressionTraining.ipynb)"
      ]
    },
    {
      "metadata": {
        "id": "b1n9MEwDwHEz",
        "colab_type": "text"
      },
      "cell_type": "markdown",
      "source": [
        "This is basic training script"
      ]
    },
    {
      "metadata": {
        "id": "h8YJeOH2rMWt",
        "colab_type": "code",
        "colab": {
          "base_uri": "https://localhost:8080/",
          "height": 1135
        },
        "outputId": "fb828d64-301f-4dcd-df7c-15d63478f6b0"
      },
      "cell_type": "code",
      "source": [
        "!pip install numpy\n",
        "!pip install scipy\n",
        "!pip install scikit-learn\n",
        "!pip install matplotlib\n",
        "!pip install pandas\n",
        "!pip install quandl\n",
        "from sklearn import preprocessing, cross_validation, svm\n",
        "from sklearn.linear_model import LinearRegression\n",
        "import math\n",
        "import pandas as pd\n",
        "import quandl\n",
        "import numpy as np"
      ],
      "execution_count": 1,
      "outputs": [
        {
          "output_type": "stream",
          "text": [
            "Requirement already satisfied: numpy in /usr/local/lib/python3.6/dist-packages (1.14.3)\n",
            "Requirement already satisfied: scipy in /usr/local/lib/python3.6/dist-packages (0.19.1)\n",
            "Requirement already satisfied: numpy>=1.8.2 in /usr/local/lib/python3.6/dist-packages (from scipy) (1.14.3)\n",
            "Requirement already satisfied: scikit-learn in /usr/local/lib/python3.6/dist-packages (0.19.1)\n",
            "Requirement already satisfied: matplotlib in /usr/local/lib/python3.6/dist-packages (2.1.2)\n",
            "Requirement already satisfied: pytz in /usr/local/lib/python3.6/dist-packages (from matplotlib) (2018.4)\n",
            "Requirement already satisfied: python-dateutil>=2.1 in /usr/local/lib/python3.6/dist-packages (from matplotlib) (2.5.3)\n",
            "Requirement already satisfied: six>=1.10 in /usr/local/lib/python3.6/dist-packages (from matplotlib) (1.11.0)\n",
            "Requirement already satisfied: cycler>=0.10 in /usr/local/lib/python3.6/dist-packages (from matplotlib) (0.10.0)\n",
            "Requirement already satisfied: pyparsing!=2.0.4,!=2.1.2,!=2.1.6,>=2.0.1 in /usr/local/lib/python3.6/dist-packages (from matplotlib) (2.2.0)\n",
            "Requirement already satisfied: numpy>=1.7.1 in /usr/local/lib/python3.6/dist-packages (from matplotlib) (1.14.3)\n",
            "Requirement already satisfied: pandas in /usr/local/lib/python3.6/dist-packages (0.22.0)\n",
            "Requirement already satisfied: python-dateutil>=2 in /usr/local/lib/python3.6/dist-packages (from pandas) (2.5.3)\n",
            "Requirement already satisfied: pytz>=2011k in /usr/local/lib/python3.6/dist-packages (from pandas) (2018.4)\n",
            "Requirement already satisfied: numpy>=1.9.0 in /usr/local/lib/python3.6/dist-packages (from pandas) (1.14.3)\n",
            "Requirement already satisfied: six>=1.5 in /usr/local/lib/python3.6/dist-packages (from python-dateutil>=2->pandas) (1.11.0)\n",
            "Collecting quandl\n",
            "  Downloading https://files.pythonhosted.org/packages/47/8c/b61f5c1e9167f4c1c1c2b86991bbbac51a2bd937b36cbc4cc39248dfb2d1/Quandl-3.3.0-py2.py3-none-any.whl\n",
            "Requirement already satisfied: numpy>=1.8 in /usr/local/lib/python3.6/dist-packages (from quandl) (1.14.3)\n",
            "Collecting pyOpenSSL (from quandl)\n",
            "\u001b[?25l  Downloading https://files.pythonhosted.org/packages/96/af/9d29e6bd40823061aea2e0574ccb2fcf72bfd6130ce53d32773ec375458c/pyOpenSSL-18.0.0-py2.py3-none-any.whl (53kB)\n",
            "\u001b[K    100% |████████████████████████████████| 61kB 6.3MB/s \n",
            "\u001b[?25hCollecting inflection>=0.3.1 (from quandl)\n",
            "  Downloading https://files.pythonhosted.org/packages/d5/35/a6eb45b4e2356fe688b21570864d4aa0d0a880ce387defe9c589112077f8/inflection-0.3.1.tar.gz\n",
            "Requirement already satisfied: python-dateutil in /usr/local/lib/python3.6/dist-packages (from quandl) (2.5.3)\n",
            "Collecting ndg-httpsclient (from quandl)\n",
            "  Downloading https://files.pythonhosted.org/packages/78/60/1458ed478eb5777498ca57f4fabf2cf9328ac43e5f6db7839cf73704f3a6/ndg_httpsclient-0.5.0-py3-none-any.whl\n",
            "Requirement already satisfied: pyasn1 in /usr/local/lib/python3.6/dist-packages (from quandl) (0.4.2)\n",
            "Requirement already satisfied: requests>=2.7.0 in /usr/local/lib/python3.6/dist-packages (from quandl) (2.18.4)\n",
            "Requirement already satisfied: six in /usr/local/lib/python3.6/dist-packages (from quandl) (1.11.0)\n",
            "Requirement already satisfied: pandas>=0.14 in /usr/local/lib/python3.6/dist-packages (from quandl) (0.22.0)\n",
            "Collecting more-itertools (from quandl)\n",
            "\u001b[?25l  Downloading https://files.pythonhosted.org/packages/85/40/90c3b0393e12b9827381004224de8814686e3d7182f9d4182477f600826d/more_itertools-4.2.0-py3-none-any.whl (45kB)\n",
            "\u001b[K    100% |████████████████████████████████| 51kB 13.0MB/s \n",
            "\u001b[?25hCollecting cryptography>=2.2.1 (from pyOpenSSL->quandl)\n",
            "\u001b[?25l  Downloading https://files.pythonhosted.org/packages/fa/f4/3cde3604972dfa2b0fea85b9711948bb4fb70ab64095322aef35071bd254/cryptography-2.2.2-cp34-abi3-manylinux1_x86_64.whl (2.2MB)\n",
            "\u001b[K    100% |████████████████████████████████| 2.2MB 13.3MB/s \n",
            "\u001b[?25hRequirement already satisfied: idna<2.7,>=2.5 in /usr/local/lib/python3.6/dist-packages (from requests>=2.7.0->quandl) (2.6)\n",
            "Requirement already satisfied: certifi>=2017.4.17 in /usr/local/lib/python3.6/dist-packages (from requests>=2.7.0->quandl) (2018.4.16)\n",
            "Requirement already satisfied: urllib3<1.23,>=1.21.1 in /usr/local/lib/python3.6/dist-packages (from requests>=2.7.0->quandl) (1.22)\n",
            "Requirement already satisfied: chardet<3.1.0,>=3.0.2 in /usr/local/lib/python3.6/dist-packages (from requests>=2.7.0->quandl) (3.0.4)\n",
            "Requirement already satisfied: pytz>=2011k in /usr/local/lib/python3.6/dist-packages (from pandas>=0.14->quandl) (2018.4)\n",
            "Collecting asn1crypto>=0.21.0 (from cryptography>=2.2.1->pyOpenSSL->quandl)\n",
            "\u001b[?25l  Downloading https://files.pythonhosted.org/packages/ea/cd/35485615f45f30a510576f1a56d1e0a7ad7bd8ab5ed7cdc600ef7cd06222/asn1crypto-0.24.0-py2.py3-none-any.whl (101kB)\n",
            "\u001b[K    100% |████████████████████████████████| 102kB 19.2MB/s \n",
            "\u001b[?25hCollecting cffi>=1.7; platform_python_implementation != \"PyPy\" (from cryptography>=2.2.1->pyOpenSSL->quandl)\n",
            "\u001b[?25l  Downloading https://files.pythonhosted.org/packages/6d/c0/47db8f624f3e4e2f3f27be03a93379d1ba16a1450a7b1aacfa0366e2c0dd/cffi-1.11.5-cp36-cp36m-manylinux1_x86_64.whl (421kB)\n",
            "\u001b[K    100% |████████████████████████████████| 430kB 21.5MB/s \n",
            "\u001b[?25hCollecting pycparser (from cffi>=1.7; platform_python_implementation != \"PyPy\"->cryptography>=2.2.1->pyOpenSSL->quandl)\n",
            "\u001b[?25l  Downloading https://files.pythonhosted.org/packages/8c/2d/aad7f16146f4197a11f8e91fb81df177adcc2073d36a17b1491fd09df6ed/pycparser-2.18.tar.gz (245kB)\n",
            "\u001b[K    100% |████████████████████████████████| 256kB 20.8MB/s \n",
            "\u001b[?25hBuilding wheels for collected packages: inflection, pycparser\n"
          ],
          "name": "stdout"
        },
        {
          "output_type": "stream",
          "text": [
            "  Running setup.py bdist_wheel for inflection ... \u001b[?25l-\b \bdone\n",
            "\u001b[?25h  Stored in directory: /content/.cache/pip/wheels/9f/5a/d3/6fc3bf6516d2a3eb7e18f9f28b472110b59325f3f258fe9211\n",
            "  Running setup.py bdist_wheel for pycparser ... \u001b[?25l-\b \b\\\b \bdone\n",
            "\u001b[?25h  Stored in directory: /content/.cache/pip/wheels/c0/a1/27/5ba234bd77ea5a290cbf6d675259ec52293193467a12ef1f46\n",
            "Successfully built inflection pycparser\n",
            "Installing collected packages: asn1crypto, pycparser, cffi, cryptography, pyOpenSSL, inflection, ndg-httpsclient, more-itertools, quandl\n",
            "Successfully installed asn1crypto-0.24.0 cffi-1.11.5 cryptography-2.2.2 inflection-0.3.1 more-itertools-4.2.0 ndg-httpsclient-0.5.0 pyOpenSSL-18.0.0 pycparser-2.18 quandl-3.3.0\n"
          ],
          "name": "stdout"
        },
        {
          "output_type": "stream",
          "text": [
            "/usr/local/lib/python3.6/dist-packages/sklearn/cross_validation.py:41: DeprecationWarning: This module was deprecated in version 0.18 in favor of the model_selection module into which all the refactored classes and functions are moved. Also note that the interface of the new CV iterators are different from that of this module. This module will be removed in 0.20.\n",
            "  \"This module will be removed in 0.20.\", DeprecationWarning)\n"
          ],
          "name": "stderr"
        }
      ]
    },
    {
      "metadata": {
        "id": "SQ8J5yZ7uKYQ",
        "colab_type": "code",
        "colab": {
          "base_uri": "https://localhost:8080/",
          "height": 557
        },
        "outputId": "82bdd269-cf00-4da5-89b6-80bb6f686bc5"
      },
      "cell_type": "code",
      "source": [
        "df = quandl.get('WIKI/GOOGL', authtoken='nMGk2yiZ8q7yS6cj5ACH')\n",
        "\n",
        "print(df.head())\n",
        "df = df[['Adj. Open',  'Adj. High',  'Adj. Low',  'Adj. Close', 'Adj. Volume']]\n",
        "df['HL_PCT'] = (df['Adj. High'] - df['Adj. Low']) / df['Adj. Close'] * 100.0\n",
        "df['PCT_change'] = (df['Adj. Close'] - df['Adj. Open']) / df['Adj. Open'] * 100.0\n",
        "df = df[['Adj. Close', 'HL_PCT', 'PCT_change', 'Adj. Volume']]\n",
        "\n",
        "print(df.head())"
      ],
      "execution_count": 2,
      "outputs": [
        {
          "output_type": "stream",
          "text": [
            "              Open    High     Low    Close      Volume  Ex-Dividend  \\\n",
            "Date                                                                   \n",
            "2004-08-19  100.01  104.06   95.96  100.335  44659000.0          0.0   \n",
            "2004-08-20  101.01  109.08  100.50  108.310  22834300.0          0.0   \n",
            "2004-08-23  110.76  113.48  109.05  109.400  18256100.0          0.0   \n",
            "2004-08-24  111.24  111.60  103.57  104.870  15247300.0          0.0   \n",
            "2004-08-25  104.76  108.00  103.88  106.000   9188600.0          0.0   \n",
            "\n",
            "            Split Ratio  Adj. Open  Adj. High   Adj. Low  Adj. Close  \\\n",
            "Date                                                                   \n",
            "2004-08-19          1.0  50.159839  52.191109  48.128568   50.322842   \n",
            "2004-08-20          1.0  50.661387  54.708881  50.405597   54.322689   \n",
            "2004-08-23          1.0  55.551482  56.915693  54.693835   54.869377   \n",
            "2004-08-24          1.0  55.792225  55.972783  51.945350   52.597363   \n",
            "2004-08-25          1.0  52.542193  54.167209  52.100830   53.164113   \n",
            "\n",
            "            Adj. Volume  \n",
            "Date                     \n",
            "2004-08-19   44659000.0  \n",
            "2004-08-20   22834300.0  \n",
            "2004-08-23   18256100.0  \n",
            "2004-08-24   15247300.0  \n",
            "2004-08-25    9188600.0  \n",
            "            Adj. Close    HL_PCT  PCT_change  Adj. Volume\n",
            "Date                                                     \n",
            "2004-08-19   50.322842  8.072956    0.324968   44659000.0\n",
            "2004-08-20   54.322689  7.921706    7.227007   22834300.0\n",
            "2004-08-23   54.869377  4.049360   -1.227880   18256100.0\n",
            "2004-08-24   52.597363  7.657099   -5.726357   15247300.0\n",
            "2004-08-25   53.164113  3.886792    1.183658    9188600.0\n"
          ],
          "name": "stdout"
        }
      ]
    },
    {
      "metadata": {
        "id": "0lN_ZlTltOP6",
        "colab_type": "code",
        "colab": {}
      },
      "cell_type": "code",
      "source": [
        "forecast_col = 'Adj. Close'\n",
        "df.fillna(value=-99999, inplace=True)\n",
        "forecast_out = int(math.ceil(0.01 * len(df)))\n",
        "df['label'] = df[forecast_col].shift(-forecast_out)\n",
        "\n",
        "df.dropna(inplace=True)"
      ],
      "execution_count": 0,
      "outputs": []
    },
    {
      "metadata": {
        "id": "3w0SurAWPb4w",
        "colab_type": "code",
        "colab": {}
      },
      "cell_type": "code",
      "source": [
        "#X has all the columns in df except label\n",
        "X = np.array(df.drop(['label'], 1))\n",
        "y = np.array(df['label'])"
      ],
      "execution_count": 0,
      "outputs": []
    },
    {
      "metadata": {
        "id": "gGwS5hPOQisb",
        "colab_type": "code",
        "colab": {
          "base_uri": "https://localhost:8080/",
          "height": 53
        },
        "outputId": "79fc4cb9-de12-4195-e6fc-840cd07f480d"
      },
      "cell_type": "code",
      "source": [
        "X_train, X_test, y_train, y_test = cross_validation.train_test_split(X, y, test_size=0.2)\n",
        "\n",
        "#Define Classifier Support Vector Regression from Scikit-Learn's \n",
        "#To learn more about SVR: https://scikit-learn.org/stable/modules/generated/sklearn.svm.SVR.html\n",
        "clf = svm.SVR()\n",
        "\n",
        "#Train:\n",
        "clf.fit(X_train, y_train)\n",
        "\n",
        "confidence = clf.score(X_test, y_test)\n",
        "print(confidence)\n",
        "#This was less confidence score -.13 or -.02\n",
        "#This would be because SVR is not multi threaded.\n",
        "#only documentation with n_jobs parameter present means it supports multi thread. Here SVR document doesnt have n_jobs parameter\n",
        "\n",
        "#Define LR classifier\n",
        "clf = LinearRegression(n_jobs=-1)\n",
        "#-1 means use all threads\n",
        "\n",
        "#Train:\n",
        "clf.fit(X_train, y_train)\n",
        "\n",
        "confidence = clf.score(X_test, y_test)\n",
        "print(confidence)\n",
        "#more than 96% with LR\n",
        "\n",
        "#Choosing the right estimator:\n",
        "#https://scikit-learn.org/stable/tutorial/machine_learning_map/\n",
        "\n",
        "\n"
      ],
      "execution_count": 5,
      "outputs": [
        {
          "output_type": "stream",
          "text": [
            "-0.2034537884000898\n",
            "0.9767198889738827\n"
          ],
          "name": "stdout"
        }
      ]
    },
    {
      "metadata": {
        "id": "rqbohvhoVuzf",
        "colab_type": "code",
        "colab": {}
      },
      "cell_type": "code",
      "source": [
        "#There could be other parameters which can be tested like below\n",
        "#for k in ['linear','poly','rbf','sigmoid']:\n",
        "#    clf = svm.SVR(kernel=k)\n",
        "#    clf.fit(X_train, y_train)\n",
        "#    confidence = clf.score(X_test, y_test)\n",
        "#    print(k,confidence)\n",
        "\n",
        "#It gets stuck in Google COLAB\n",
        "#but the output should be as below\n",
        "#linear 0.960075071072\n",
        "#poly 0.63712232551\n",
        "#rbf 0.802831714511\n",
        "#sigmoid -0.125347960903"
      ],
      "execution_count": 0,
      "outputs": []
    }
  ]
}